{
 "cells": [
  {
   "cell_type": "markdown",
   "metadata": {},
   "source": [
    "# Lab3: Frequent Pattern Mining - Bread Basket\n",
    "## 1 About Dataset\n",
    "\n",
    "![](image/Basket.png)\n",
    "\n",
    "### 1.1 Context\n",
    "\n",
    "The dataset belongs to \"The Bread Basket\" a bakery located in Edinburgh. The dataset has 20507 entries, over 9000 transactions, and 4 columns.\n",
    "\n",
    "### 1.2 Content\n",
    "\n",
    "The dataset has transactions of customers who ordered different items from this bakery online and the time period of the data is from 26-01-11 to 27-12-03. The columns in this dataset are:\n",
    "\n",
    "- Transaction: Transaction id which is unique for each order\n",
    "\n",
    "- Item: List of items to be ordered/placed by customer\n",
    "\n",
    "- date_time: Date and time of the transaction. format: dd-mm-yyyy hh:mm\n",
    "\n",
    "- period_day: Which period of a day when customer placed ordered\n",
    "\n",
    "- weekday_weekend: Is the day is weekend (sat or sun) or weekday"
   ]
  },
  {
   "cell_type": "markdown",
   "metadata": {},
   "source": [
    "## 2 Data Preprocessing\n",
    "Set up coding environment"
   ]
  },
  {
   "cell_type": "code",
   "execution_count": 1,
   "metadata": {},
   "outputs": [
    {
     "name": "stdout",
     "output_type": "stream",
     "text": [
      "Setup Complete\n"
     ]
    }
   ],
   "source": [
    "import numpy as np\n",
    "import pandas as pd\n",
    "import seaborn as sns\n",
    "import matplotlib.pyplot as plt\n",
    "%matplotlib inline\n",
    "\n",
    "sns.set_style(\"darkgrid\")\n",
    "print(\"Setup Complete\")"
   ]
  },
  {
   "cell_type": "markdown",
   "metadata": {},
   "source": [
    "Load and examine the data"
   ]
  },
  {
   "cell_type": "code",
   "execution_count": 2,
   "metadata": {},
   "outputs": [
    {
     "data": {
      "text/html": [
       "<div>\n",
       "<style scoped>\n",
       "    .dataframe tbody tr th:only-of-type {\n",
       "        vertical-align: middle;\n",
       "    }\n",
       "\n",
       "    .dataframe tbody tr th {\n",
       "        vertical-align: top;\n",
       "    }\n",
       "\n",
       "    .dataframe thead th {\n",
       "        text-align: right;\n",
       "    }\n",
       "</style>\n",
       "<table border=\"1\" class=\"dataframe\">\n",
       "  <thead>\n",
       "    <tr style=\"text-align: right;\">\n",
       "      <th></th>\n",
       "      <th>Transaction</th>\n",
       "      <th>Item</th>\n",
       "      <th>date_time</th>\n",
       "      <th>period_day</th>\n",
       "      <th>weekday_weekend</th>\n",
       "    </tr>\n",
       "  </thead>\n",
       "  <tbody>\n",
       "    <tr>\n",
       "      <th>0</th>\n",
       "      <td>1</td>\n",
       "      <td>Bread</td>\n",
       "      <td>30-10-2016 09:58</td>\n",
       "      <td>morning</td>\n",
       "      <td>weekend</td>\n",
       "    </tr>\n",
       "    <tr>\n",
       "      <th>1</th>\n",
       "      <td>2</td>\n",
       "      <td>Scandinavian</td>\n",
       "      <td>30-10-2016 10:05</td>\n",
       "      <td>morning</td>\n",
       "      <td>weekend</td>\n",
       "    </tr>\n",
       "    <tr>\n",
       "      <th>2</th>\n",
       "      <td>2</td>\n",
       "      <td>Scandinavian</td>\n",
       "      <td>30-10-2016 10:05</td>\n",
       "      <td>morning</td>\n",
       "      <td>weekend</td>\n",
       "    </tr>\n",
       "    <tr>\n",
       "      <th>3</th>\n",
       "      <td>3</td>\n",
       "      <td>Hot chocolate</td>\n",
       "      <td>30-10-2016 10:07</td>\n",
       "      <td>morning</td>\n",
       "      <td>weekend</td>\n",
       "    </tr>\n",
       "    <tr>\n",
       "      <th>4</th>\n",
       "      <td>3</td>\n",
       "      <td>Jam</td>\n",
       "      <td>30-10-2016 10:07</td>\n",
       "      <td>morning</td>\n",
       "      <td>weekend</td>\n",
       "    </tr>\n",
       "  </tbody>\n",
       "</table>\n",
       "</div>"
      ],
      "text/plain": [
       "   Transaction           Item         date_time period_day weekday_weekend\n",
       "0            1          Bread  30-10-2016 09:58    morning         weekend\n",
       "1            2   Scandinavian  30-10-2016 10:05    morning         weekend\n",
       "2            2   Scandinavian  30-10-2016 10:05    morning         weekend\n",
       "3            3  Hot chocolate  30-10-2016 10:07    morning         weekend\n",
       "4            3            Jam  30-10-2016 10:07    morning         weekend"
      ]
     },
     "execution_count": 2,
     "metadata": {},
     "output_type": "execute_result"
    }
   ],
   "source": [
    "df = pd.read_csv('data/bread basket.csv')\n",
    "df.head()"
   ]
  },
  {
   "cell_type": "code",
   "execution_count": 3,
   "metadata": {},
   "outputs": [
    {
     "data": {
      "text/html": [
       "<div>\n",
       "<style scoped>\n",
       "    .dataframe tbody tr th:only-of-type {\n",
       "        vertical-align: middle;\n",
       "    }\n",
       "\n",
       "    .dataframe tbody tr th {\n",
       "        vertical-align: top;\n",
       "    }\n",
       "\n",
       "    .dataframe thead th {\n",
       "        text-align: right;\n",
       "    }\n",
       "</style>\n",
       "<table border=\"1\" class=\"dataframe\">\n",
       "  <thead>\n",
       "    <tr style=\"text-align: right;\">\n",
       "      <th></th>\n",
       "      <th>Transaction</th>\n",
       "    </tr>\n",
       "  </thead>\n",
       "  <tbody>\n",
       "    <tr>\n",
       "      <th>count</th>\n",
       "      <td>20507.000000</td>\n",
       "    </tr>\n",
       "    <tr>\n",
       "      <th>mean</th>\n",
       "      <td>4976.202370</td>\n",
       "    </tr>\n",
       "    <tr>\n",
       "      <th>std</th>\n",
       "      <td>2796.203001</td>\n",
       "    </tr>\n",
       "    <tr>\n",
       "      <th>min</th>\n",
       "      <td>1.000000</td>\n",
       "    </tr>\n",
       "    <tr>\n",
       "      <th>25%</th>\n",
       "      <td>2552.000000</td>\n",
       "    </tr>\n",
       "    <tr>\n",
       "      <th>50%</th>\n",
       "      <td>5137.000000</td>\n",
       "    </tr>\n",
       "    <tr>\n",
       "      <th>75%</th>\n",
       "      <td>7357.000000</td>\n",
       "    </tr>\n",
       "    <tr>\n",
       "      <th>max</th>\n",
       "      <td>9684.000000</td>\n",
       "    </tr>\n",
       "  </tbody>\n",
       "</table>\n",
       "</div>"
      ],
      "text/plain": [
       "        Transaction\n",
       "count  20507.000000\n",
       "mean    4976.202370\n",
       "std     2796.203001\n",
       "min        1.000000\n",
       "25%     2552.000000\n",
       "50%     5137.000000\n",
       "75%     7357.000000\n",
       "max     9684.000000"
      ]
     },
     "execution_count": 3,
     "metadata": {},
     "output_type": "execute_result"
    }
   ],
   "source": [
    "df.describe()"
   ]
  },
  {
   "cell_type": "code",
   "execution_count": 4,
   "metadata": {},
   "outputs": [
    {
     "name": "stdout",
     "output_type": "stream",
     "text": [
      "<class 'pandas.core.frame.DataFrame'>\n",
      "RangeIndex: 20507 entries, 0 to 20506\n",
      "Data columns (total 5 columns):\n",
      " #   Column           Non-Null Count  Dtype \n",
      "---  ------           --------------  ----- \n",
      " 0   Transaction      20507 non-null  int64 \n",
      " 1   Item             20507 non-null  object\n",
      " 2   date_time        20507 non-null  object\n",
      " 3   period_day       20507 non-null  object\n",
      " 4   weekday_weekend  20507 non-null  object\n",
      "dtypes: int64(1), object(4)\n",
      "memory usage: 801.2+ KB\n"
     ]
    }
   ],
   "source": [
    "df.info()"
   ]
  },
  {
   "cell_type": "markdown",
   "metadata": {},
   "source": [
    "We can conclude from the table above that there is no missing value in the dataset."
   ]
  },
  {
   "cell_type": "code",
   "execution_count": 5,
   "metadata": {},
   "outputs": [
    {
     "data": {
      "text/plain": [
       "9465"
      ]
     },
     "execution_count": 5,
     "metadata": {},
     "output_type": "execute_result"
    }
   ],
   "source": [
    "df['Transaction'].nunique()"
   ]
  },
  {
   "cell_type": "markdown",
   "metadata": {},
   "source": [
    "We can find that the dataset contains 9465 unique transactions."
   ]
  },
  {
   "cell_type": "code",
   "execution_count": 6,
   "metadata": {},
   "outputs": [
    {
     "data": {
      "text/plain": [
       "Coffee            5471\n",
       "Bread             3325\n",
       "Tea               1435\n",
       "Cake              1025\n",
       "Pastry             856\n",
       "                  ... \n",
       "Bacon                1\n",
       "Gift voucher         1\n",
       "Olum & polenta       1\n",
       "Raw bars             1\n",
       "Polenta              1\n",
       "Name: Item, Length: 94, dtype: int64"
      ]
     },
     "execution_count": 6,
     "metadata": {},
     "output_type": "execute_result"
    }
   ],
   "source": [
    "df['Item'].value_counts()"
   ]
  },
  {
   "cell_type": "markdown",
   "metadata": {},
   "source": [
    "We can also find that there are 94 different items in the dataset."
   ]
  },
  {
   "cell_type": "code",
   "execution_count": 7,
   "metadata": {},
   "outputs": [
    {
     "data": {
      "image/png": "[encoded data removed]",
      "text/plain": [
       "<Figure size 1152x432 with 1 Axes>"
      ]
     },
     "metadata": {},
     "output_type": "display_data"
    }
   ],
   "source": [
    "plt.figure(figsize=(16,6))\n",
    "sns.barplot(x = df.Item.value_counts().head(20).index, \n",
    "            y = df.Item.value_counts().head(20).values)\n",
    "plt.xlabel('Items', size=15)\n",
    "plt.xticks(rotation=30, size=13)\n",
    "plt.ylabel('Number', size=15)\n",
    "plt.yticks(size=13)\n",
    "plt.title('Top 20 Items', size=20)\n",
    "plt.show()"
   ]
  },
  {
   "cell_type": "markdown",
   "metadata": {},
   "source": [
    "From the charts above we can roughly see that the most purchased items are coffee, bread, tea, cake pastry, and sandwich. We can also consider and set a threshold for support based on the above chart."
   ]
  },
  {
   "cell_type": "code",
   "execution_count": 8,
   "metadata": {},
   "outputs": [
    {
     "data": {
      "text/plain": [
       "array([list(['Bread']), list(['Scandinavian']),\n",
       "       list(['Hot chocolate', 'Jam', 'Cookies']), ...,\n",
       "       list(['Muffin', 'Tacos/Fajita', 'Coffee', 'Tea']),\n",
       "       list(['Coffee', 'Pastry']), list(['Smoothies'])], dtype=object)"
      ]
     },
     "execution_count": 8,
     "metadata": {},
     "output_type": "execute_result"
    }
   ],
   "source": [
    "# dataset = []\n",
    "# for i in df['Transaction'].unique():\n",
    "#     dataset.append(df[df['Transaction'] == i]['Item'].unique().tolist())\n",
    "# np.save('data/dataset.npy', dataset)\n",
    "dataset = np.load('data/dataset.npy', allow_pickle=True)\n",
    "dataset"
   ]
  },
  {
   "cell_type": "markdown",
   "metadata": {},
   "source": [
    "## 3 Apriori Algorithm\n",
    "\n",
    "### 3.1 Apriori algorithm principle\n",
    "\n",
    "Apriori algorithm is a frequent itemset mining algorithm. It is a combination of the ideas of association rule learning and pattern discovery.\n",
    "\n",
    "Apriori algorithm  follows the Apriori property: all non-empty subsets of frequent itemsets must also be frequent itemsets.\n",
    "\n",
    "Apriori uses an iterative method of layer-by-layer search, which means frequent k-itemset is used to construct frequent (k+1)-itemsets.\n",
    "\n",
    "The algorithm process is as follows:\n",
    "\n",
    "- Set k = 1. Scan the dataset, accumulate the counts for each item, and collect the items that satisfy the minimum support to build a frequent 1-itemset L1. \n",
    "\n",
    "- Take the union of each two items in Lk. If the number of elements in the result is equal to k+1 and satisfy the minimum support condition, add the result itemset to frequent (k+1)-itemset.\n",
    "\n",
    "- Set k = k+1. Repeat the previous step until the number of elements in frequent (k+1)-itemset is 0.\n",
    "\n",
    "### 3.2 Apriori algorithm implementation"
   ]
  },
  {
   "cell_type": "code",
   "execution_count": 9,
   "metadata": {},
   "outputs": [],
   "source": [
    "class Apriori(object):\n",
    "    def __init__(self, data, min_sup=2):\n",
    "        self.data = data\n",
    "        self.min_sup = min_sup\n",
    "        self.support_hash = {}\n",
    "\n",
    "    def pruning(self, L):\n",
    "        '''剪枝'''\n",
    "        L_prune = []\n",
    "        for item in L:\n",
    "            support = sum(1 for transaction in self.data if item.issubset(transaction)) / len(self.data) * 100\n",
    "            if support >= self.min_sup:\n",
    "                L_prune.append(item)\n",
    "                self.support_hash[item] = support\n",
    "        return L_prune\n",
    "    \n",
    "    def frequent_itemsets_L1(self):\n",
    "        '''创建单项频繁项集L1'''\n",
    "        C1 = []  \n",
    "        for transaction in self.data:  \n",
    "            for item in transaction:  \n",
    "                if [item] not in C1: \n",
    "                    C1.append([item])  \n",
    "        C1 = [frozenset(item) for item in C1]\n",
    "        L1 = self.pruning(C1)\n",
    "        L1.sort()\n",
    "        return L1\n",
    "    \n",
    "    def frequent_itemsets_Lk(self, L):\n",
    "        '''根据频繁项集Lk-1创建频繁项集Lk'''\n",
    "        Ck = []\n",
    "        k = len(L[0])\n",
    "        for itemset1 in L:\n",
    "            for itemset2 in L:\n",
    "                if itemset1 != itemset2:\n",
    "                    union = itemset1 | itemset2\n",
    "                    if len(union) == k+1 and union not in Ck:\n",
    "                        Ck.append(union)\n",
    "        Ck = [frozenset(item) for item in Ck]\n",
    "        Lk = self.pruning(Ck)\n",
    "        Lk.sort()\n",
    "        return Lk\n",
    "\n",
    "    def apriori(self):\n",
    "        '''Apriori算法'''\n",
    "        L = []\n",
    "        Lk = self.frequent_itemsets_L1()\n",
    "        while len(Lk) > 0:\n",
    "            L += Lk\n",
    "            Lk = self.frequent_itemsets_Lk(Lk)\n",
    "        return L\n",
    "\n",
    "    def association_rules(self, L, min_conf=50):\n",
    "        '''生成强关联规则'''\n",
    "        rules = []\n",
    "        for item1 in L:\n",
    "            for item2 in L:\n",
    "                if item1 != item2 and item1.issubset(item2):\n",
    "                        confidence = self.support_hash[item2] / self.support_hash[item1] * 100\n",
    "                        if confidence >= min_conf:\n",
    "                            rules.append((item1, item2 - item1, confidence))\n",
    "        return rules"
   ]
  },
  {
   "cell_type": "markdown",
   "metadata": {},
   "source": [
    "### 3.3 Create frequent itemsets"
   ]
  },
  {
   "cell_type": "code",
   "execution_count": 10,
   "metadata": {},
   "outputs": [
    {
     "data": {
      "text/plain": [
       "[frozenset({'Bread'}),\n",
       " frozenset({'Scandinavian'}),\n",
       " frozenset({'Hot chocolate'}),\n",
       " frozenset({'Jam'}),\n",
       " frozenset({'Cookies'}),\n",
       " frozenset({'Muffin'}),\n",
       " frozenset({'Coffee'}),\n",
       " frozenset({'Pastry'}),\n",
       " frozenset({'Medialuna'}),\n",
       " frozenset({'Tea'}),\n",
       " frozenset({'Mineral water'}),\n",
       " frozenset({'Farm House'}),\n",
       " frozenset({'Fudge'}),\n",
       " frozenset({'Juice'}),\n",
       " frozenset({'Hearty & Seasonal'}),\n",
       " frozenset({'Soup'}),\n",
       " frozenset({'Cake'}),\n",
       " frozenset({'Coke'}),\n",
       " frozenset({'Sandwich'}),\n",
       " frozenset({'Alfajores'}),\n",
       " frozenset({'Brownie'}),\n",
       " frozenset({'Truffles'}),\n",
       " frozenset({'Jammie Dodgers'}),\n",
       " frozenset({'Tiffin'}),\n",
       " frozenset({'Toast'}),\n",
       " frozenset({'Scone'}),\n",
       " frozenset({'Salad'}),\n",
       " frozenset({'Chicken Stew'}),\n",
       " frozenset({'Spanish Brunch'}),\n",
       " frozenset({'Baguette'}),\n",
       " frozenset({'Bread', 'Hot chocolate'}),\n",
       " frozenset({'Bread', 'Cookies'}),\n",
       " frozenset({'Bread', 'Coffee'}),\n",
       " frozenset({'Bread', 'Pastry'}),\n",
       " frozenset({'Bread', 'Medialuna'}),\n",
       " frozenset({'Bread', 'Tea'}),\n",
       " frozenset({'Bread', 'Cake'}),\n",
       " frozenset({'Bread', 'Sandwich'}),\n",
       " frozenset({'Alfajores', 'Bread'}),\n",
       " frozenset({'Bread', 'Brownie'}),\n",
       " frozenset({'Coffee', 'Hot chocolate'}),\n",
       " frozenset({'Cake', 'Hot chocolate'}),\n",
       " frozenset({'Coffee', 'Cookies'}),\n",
       " frozenset({'Coffee', 'Muffin'}),\n",
       " frozenset({'Coffee', 'Pastry'}),\n",
       " frozenset({'Coffee', 'Medialuna'}),\n",
       " frozenset({'Coffee', 'Tea'}),\n",
       " frozenset({'Coffee', 'Juice'}),\n",
       " frozenset({'Coffee', 'Soup'}),\n",
       " frozenset({'Cake', 'Coffee'}),\n",
       " frozenset({'Coffee', 'Sandwich'}),\n",
       " frozenset({'Alfajores', 'Coffee'}),\n",
       " frozenset({'Brownie', 'Coffee'}),\n",
       " frozenset({'Coffee', 'Toast'}),\n",
       " frozenset({'Coffee', 'Scone'}),\n",
       " frozenset({'Coffee', 'Spanish Brunch'}),\n",
       " frozenset({'Cake', 'Tea'}),\n",
       " frozenset({'Sandwich', 'Tea'}),\n",
       " frozenset({'Bread', 'Coffee', 'Pastry'}),\n",
       " frozenset({'Bread', 'Cake', 'Coffee'}),\n",
       " frozenset({'Cake', 'Coffee', 'Tea'})]"
      ]
     },
     "execution_count": 10,
     "metadata": {},
     "output_type": "execute_result"
    }
   ],
   "source": [
    "ap1 = Apriori(dataset, min_sup=1)\n",
    "L1 = ap1.apriori()\n",
    "L1"
   ]
  },
  {
   "cell_type": "markdown",
   "metadata": {},
   "source": [
    "From the table above we can see that when the minimum support is 1%, the algorithm generates 61 frequent items, including frequent 1-itemset with 30 items, frequent 2-itemset with 28 items and frequent 3-itemset with 3 items."
   ]
  },
  {
   "cell_type": "code",
   "execution_count": 11,
   "metadata": {},
   "outputs": [
    {
     "data": {
      "text/plain": [
       "[frozenset({'Bread'}),\n",
       " frozenset({'Hot chocolate'}),\n",
       " frozenset({'Cookies'}),\n",
       " frozenset({'Coffee'}),\n",
       " frozenset({'Pastry'}),\n",
       " frozenset({'Medialuna'}),\n",
       " frozenset({'Tea'}),\n",
       " frozenset({'Cake'}),\n",
       " frozenset({'Sandwich'}),\n",
       " frozenset({'Bread', 'Coffee'}),\n",
       " frozenset({'Cake', 'Coffee'})]"
      ]
     },
     "execution_count": 11,
     "metadata": {},
     "output_type": "execute_result"
    }
   ],
   "source": [
    "ap5 = Apriori(dataset, min_sup=5)\n",
    "L5 = ap5.apriori()\n",
    "L5"
   ]
  },
  {
   "cell_type": "markdown",
   "metadata": {},
   "source": [
    "From the table above we can see that when the minimum support is 5%, the algorithm generates 11 frequent items, including frequent 1-itemset with 9 items and frequent 2-itemset with 2 items."
   ]
  },
  {
   "cell_type": "code",
   "execution_count": 12,
   "metadata": {},
   "outputs": [
    {
     "data": {
      "text/plain": [
       "[frozenset({'Bread'}),\n",
       " frozenset({'Coffee'}),\n",
       " frozenset({'Tea'}),\n",
       " frozenset({'Cake'})]"
      ]
     },
     "execution_count": 12,
     "metadata": {},
     "output_type": "execute_result"
    }
   ],
   "source": [
    "ap10 = Apriori(dataset, min_sup=10)\n",
    "L10 = ap10.apriori()\n",
    "L10"
   ]
  },
  {
   "cell_type": "markdown",
   "metadata": {},
   "source": [
    "From the table above we can see that when the minimum support is 10%, the algorithm generates 4 frequent items and they are all in frequent 1-itemset."
   ]
  },
  {
   "cell_type": "markdown",
   "metadata": {},
   "source": [
    "### 3.4 Generate association rules"
   ]
  },
  {
   "cell_type": "code",
   "execution_count": 13,
   "metadata": {},
   "outputs": [
    {
     "data": {
      "text/plain": [
       "[(frozenset({'Toast'}), frozenset({'Coffee'}), 70.44025157232706)]"
      ]
     },
     "execution_count": 13,
     "metadata": {},
     "output_type": "execute_result"
    }
   ],
   "source": [
    "ap1.association_rules(L1, min_conf=70)"
   ]
  },
  {
   "cell_type": "markdown",
   "metadata": {},
   "source": [
    "From the table above we can see that when the minimum support is 1% and the minimum confidence is 70%, the algorithm generates only one strong association rule."
   ]
  },
  {
   "cell_type": "code",
   "execution_count": 14,
   "metadata": {},
   "outputs": [
    {
     "data": {
      "text/plain": [
       "[(frozenset({'Hot chocolate'}), frozenset({'Coffee'}), 50.724637681159415),\n",
       " (frozenset({'Cookies'}), frozenset({'Coffee'}), 51.844660194174764),\n",
       " (frozenset({'Pastry'}), frozenset({'Coffee'}), 55.21472392638037),\n",
       " (frozenset({'Medialuna'}), frozenset({'Coffee'}), 56.92307692307692),\n",
       " (frozenset({'Juice'}), frozenset({'Coffee'}), 53.42465753424658),\n",
       " (frozenset({'Cake'}), frozenset({'Coffee'}), 52.695829094608335),\n",
       " (frozenset({'Sandwich'}), frozenset({'Coffee'}), 53.23529411764706),\n",
       " (frozenset({'Alfajores'}), frozenset({'Coffee'}), 54.06976744186047),\n",
       " (frozenset({'Toast'}), frozenset({'Coffee'}), 70.44025157232706),\n",
       " (frozenset({'Scone'}), frozenset({'Coffee'}), 52.29357798165138),\n",
       " (frozenset({'Spanish Brunch'}), frozenset({'Coffee'}), 59.88372093023256)]"
      ]
     },
     "execution_count": 14,
     "metadata": {},
     "output_type": "execute_result"
    }
   ],
   "source": [
    "ap1.association_rules(L1, min_conf=50)"
   ]
  },
  {
   "cell_type": "markdown",
   "metadata": {},
   "source": [
    "From the table above we can see that when the minimum support is 1% and the minimum confidence is 50%, the algorithm generates 11 strong association rules."
   ]
  },
  {
   "cell_type": "code",
   "execution_count": 15,
   "metadata": {},
   "outputs": [
    {
     "data": {
      "text/plain": [
       "[(frozenset({'Bread'}), frozenset({'Coffee'}), 27.51049402647724),\n",
       " (frozenset({'Hot chocolate'}), frozenset({'Coffee'}), 50.724637681159415),\n",
       " (frozenset({'Cookies'}), frozenset({'Bread'}), 26.601941747572816),\n",
       " (frozenset({'Cookies'}), frozenset({'Coffee'}), 51.844660194174764),\n",
       " (frozenset({'Muffin'}), frozenset({'Coffee'}), 48.9010989010989),\n",
       " (frozenset({'Pastry'}), frozenset({'Bread'}), 33.86503067484663),\n",
       " (frozenset({'Pastry'}), frozenset({'Coffee'}), 55.21472392638037),\n",
       " (frozenset({'Medialuna'}), frozenset({'Bread'}), 27.350427350427353),\n",
       " (frozenset({'Medialuna'}), frozenset({'Coffee'}), 56.92307692307692),\n",
       " (frozenset({'Tea'}), frozenset({'Coffee'}), 34.96296296296296),\n",
       " (frozenset({'Juice'}), frozenset({'Coffee'}), 53.42465753424658),\n",
       " (frozenset({'Soup'}), frozenset({'Coffee'}), 46.012269938650306),\n",
       " (frozenset({'Cake'}), frozenset({'Coffee'}), 52.695829094608335),\n",
       " (frozenset({'Sandwich'}), frozenset({'Coffee'}), 53.23529411764706),\n",
       " (frozenset({'Alfajores'}), frozenset({'Bread'}), 28.488372093023255),\n",
       " (frozenset({'Alfajores'}), frozenset({'Coffee'}), 54.06976744186047),\n",
       " (frozenset({'Brownie'}), frozenset({'Bread'}), 26.912928759894463),\n",
       " (frozenset({'Brownie'}), frozenset({'Coffee'}), 49.07651715039579),\n",
       " (frozenset({'Toast'}), frozenset({'Coffee'}), 70.44025157232706),\n",
       " (frozenset({'Scone'}), frozenset({'Coffee'}), 52.29357798165138),\n",
       " (frozenset({'Spanish Brunch'}), frozenset({'Coffee'}), 59.88372093023256),\n",
       " (frozenset({'Bread', 'Pastry'}), frozenset({'Coffee'}), 38.405797101449274),\n",
       " (frozenset({'Bread', 'Cake'}), frozenset({'Coffee'}), 42.98642533936651),\n",
       " (frozenset({'Cake', 'Tea'}), frozenset({'Coffee'}), 42.22222222222222)]"
      ]
     },
     "execution_count": 15,
     "metadata": {},
     "output_type": "execute_result"
    }
   ],
   "source": [
    "ap1.association_rules(L1, min_conf=25)"
   ]
  },
  {
   "cell_type": "markdown",
   "metadata": {},
   "source": [
    "From the table above we can see that when the minimum support is 1% and the minimum confidence is 25%, the algorithm generates 24 strong association rules."
   ]
  },
  {
   "cell_type": "code",
   "execution_count": 16,
   "metadata": {},
   "outputs": [
    {
     "data": {
      "text/plain": [
       "[(frozenset({'Cake'}), frozenset({'Coffee'}), 52.695829094608335)]"
      ]
     },
     "execution_count": 16,
     "metadata": {},
     "output_type": "execute_result"
    }
   ],
   "source": [
    "ap5.association_rules(L5, min_conf=50)"
   ]
  },
  {
   "cell_type": "markdown",
   "metadata": {},
   "source": [
    "From the table above we can see that when the minimum support is 5% and the minimum confidence is 50%, the algorithm generates 1 strong association rules."
   ]
  },
  {
   "cell_type": "code",
   "execution_count": 17,
   "metadata": {},
   "outputs": [
    {
     "data": {
      "text/plain": [
       "[(frozenset({'Bread'}), frozenset({'Coffee'}), 27.51049402647724),\n",
       " (frozenset({'Coffee'}), frozenset({'Bread'}), 18.81625441696113),\n",
       " (frozenset({'Coffee'}), frozenset({'Cake'}), 11.43992932862191),\n",
       " (frozenset({'Cake'}), frozenset({'Coffee'}), 52.695829094608335)]"
      ]
     },
     "execution_count": 17,
     "metadata": {},
     "output_type": "execute_result"
    }
   ],
   "source": [
    "ap5.association_rules(L5, min_conf=10)"
   ]
  },
  {
   "cell_type": "markdown",
   "metadata": {},
   "source": [
    "From the table above we can see that when the minimum support is 5% and the minimum confidence is 10%, the algorithm generates 4 strong association rules."
   ]
  },
  {
   "cell_type": "code",
   "execution_count": 18,
   "metadata": {},
   "outputs": [
    {
     "data": {
      "text/plain": [
       "[]"
      ]
     },
     "execution_count": 18,
     "metadata": {},
     "output_type": "execute_result"
    }
   ],
   "source": [
    "ap10.association_rules(L10, min_conf=0)"
   ]
  },
  {
   "cell_type": "markdown",
   "metadata": {},
   "source": [
    "From the table above we can see that when the minimum support is 10%, the algorithm generates no strong association rules at all."
   ]
  }
 ],
 "metadata": {
  "interpreter": {
   "hash": "ca7033bcbd28fbc87c52f75e777d8356a0c5a1ba8967c3e69b6a86cb9de98f8e"
  },
  "kernelspec": {
   "display_name": "Python 3.8.2 ('mcm')",
   "language": "python",
   "name": "python3"
  },
  "language_info": {
   "codemirror_mode": {
    "name": "ipython",
    "version": 3
   },
   "file_extension": ".py",
   "mimetype": "text/x-python",
   "name": "python",
   "nbconvert_exporter": "python",
   "pygments_lexer": "ipython3",
   "version": "3.8.2"
  },
  "orig_nbformat": 4
 },
 "nbformat": 4,
 "nbformat_minor": 2
}
